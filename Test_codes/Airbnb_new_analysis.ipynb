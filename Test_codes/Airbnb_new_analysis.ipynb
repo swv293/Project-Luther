{
 "cells": [
  {
   "cell_type": "code",
   "execution_count": 1,
   "metadata": {
    "ExecuteTime": {
     "end_time": "2018-10-11T21:04:08.890656Z",
     "start_time": "2018-10-11T21:04:03.608117Z"
    }
   },
   "outputs": [],
   "source": [
    "import pandas as pd\n",
    "import numpy as np\n",
    "from sklearn import datasets\n",
    "from sklearn.linear_model import LinearRegression\n",
    "from sklearn.linear_model import RidgeCV, LassoCV, Lasso, Ridge\n",
    "from sklearn.model_selection import train_test_split, GridSearchCV, KFold , cross_val_score\n",
    "from sklearn.metrics import mean_squared_error\n",
    "from sklearn.preprocessing import StandardScaler\n",
    "from sklearn.pipeline import make_pipeline\n",
    "from sklearn.preprocessing import PolynomialFeatures\n",
    "\n",
    "import statsmodels.api as sm\n",
    "import statsmodels.formula.api as smf\n",
    "\n",
    "import matplotlib.pyplot as plt\n",
    "import matplotlib\n",
    "import seaborn as sns\n",
    "import datetime\n",
    "\n",
    "plt.style.use('seaborn')\n",
    "sns.set_palette(\"husl\")\n",
    "%matplotlib inline\n",
    "%config InlineBackend.figure_format = 'svg'"
   ]
  },
  {
   "cell_type": "code",
   "execution_count": 2,
   "metadata": {
    "ExecuteTime": {
     "end_time": "2018-10-11T21:04:10.226531Z",
     "start_time": "2018-10-11T21:04:10.133832Z"
    }
   },
   "outputs": [],
   "source": [
    "abnb_df = pd.read_csv('data/listing_final.csv')\n",
    "abnb_df = abnb_df.drop(columns= ['Unnamed: 0'])"
   ]
  },
  {
   "cell_type": "code",
   "execution_count": 3,
   "metadata": {
    "ExecuteTime": {
     "end_time": "2018-10-11T21:04:11.573522Z",
     "start_time": "2018-10-11T21:04:11.558384Z"
    }
   },
   "outputs": [],
   "source": [
    "abnb_df.rename(index = str, columns ={'f': 'not_superhost', 't': 'is_superhost', 'zvi' :'rent_index', 'strict_14_with_grace_period' :'strict_14',\\\n",
    "                                     'super_strict_30': 'strict_30', 'super_strict_60': 'strict_60'}, inplace = True)\n",
    "\n",
    "abnb_df.rename(str.lower , axis ='columns', inplace=True)"
   ]
  },
  {
   "cell_type": "code",
   "execution_count": 19,
   "metadata": {
    "ExecuteTime": {
     "end_time": "2018-10-11T21:15:53.250293Z",
     "start_time": "2018-10-11T21:15:53.241648Z"
    }
   },
   "outputs": [
    {
     "data": {
      "text/plain": [
       "99.0"
      ]
     },
     "execution_count": 19,
     "metadata": {},
     "output_type": "execute_result"
    }
   ],
   "source": [
    "abnb_df.columns\n",
    "abnb_df.price.mean()\n",
    "abnb_df.price.median()"
   ]
  },
  {
   "cell_type": "code",
   "execution_count": 5,
   "metadata": {
    "ExecuteTime": {
     "end_time": "2018-10-11T21:04:17.584076Z",
     "start_time": "2018-10-11T21:04:17.577402Z"
    }
   },
   "outputs": [],
   "source": [
    "X = abnb_df[['accommodates', 'bathrooms', 'bedrooms', 'beds',\n",
    "       'security_deposit', 'cleaning_fee', 'guests_included',\n",
    "       'extra_people','number_of_reviews', 'rent_index', 'number_of_days_as_host',\n",
    "       'number_of_amenities']]\n",
    "y = abnb_df['price']"
   ]
  },
  {
   "cell_type": "code",
   "execution_count": 25,
   "metadata": {
    "ExecuteTime": {
     "end_time": "2018-10-11T21:28:43.168614Z",
     "start_time": "2018-10-11T21:28:42.697014Z"
    }
   },
   "outputs": [
    {
     "data": {
      "text/plain": [
       "const                          88.508184\n",
       "host_response_rate              1.174971\n",
       "accommodates                    1.933762\n",
       "bathrooms                       1.244250\n",
       "bedrooms                        1.845592\n",
       "beds                            1.771975\n",
       "price                           1.292523\n",
       "security_deposit                1.113562\n",
       "cleaning_fee                    1.411137\n",
       "guests_included                 1.397018\n",
       "extra_people                    1.082490\n",
       "availability_60                 3.800357\n",
       "availability_90                 3.845226\n",
       "number_of_reviews               1.406811\n",
       "review_scores_rating            8.637532\n",
       "review_scores_accuracy          7.910332\n",
       "review_scores_cleanliness       5.927721\n",
       "review_scores_checkin           8.071427\n",
       "review_scores_communication     8.530952\n",
       "review_scores_location          5.384086\n",
       "review_scores_value             6.586822\n",
       "rent_index                      1.098257\n",
       "number_of_days_as_host          1.154668\n",
       "number_of_amenities             1.147925\n",
       "review_period                   1.492676\n",
       "not_superhost                  41.692153\n",
       "is_superhost                   41.687583\n",
       "moderate                        1.334718\n",
       "strict                          1.019517\n",
       "strict_14                       1.375730\n",
       "strict_30                       1.031763\n",
       "strict_60                       1.017237\n",
       "dtype: float64"
      ]
     },
     "execution_count": 25,
     "metadata": {},
     "output_type": "execute_result"
    }
   ],
   "source": [
    "from statsmodels.stats.outliers_influence import variance_inflation_factor\n",
    "from statsmodels.tools.tools import add_constant\n",
    "\n",
    "X = add_constant(abnb_df)\n",
    "pd.Series([np.sqrt(variance_inflation_factor(X.values, i)) \n",
    "               for i in range(X.shape[1])], \n",
    "              index=X.columns)"
   ]
  },
  {
   "cell_type": "code",
   "execution_count": 8,
   "metadata": {
    "ExecuteTime": {
     "end_time": "2018-10-11T21:06:24.467637Z",
     "start_time": "2018-10-11T21:06:24.455497Z"
    }
   },
   "outputs": [],
   "source": [
    "X_train, X_test, y_train, y_test = train_test_split(X, y, test_size =0.3, random_state = 93)"
   ]
  },
  {
   "cell_type": "code",
   "execution_count": 9,
   "metadata": {
    "ExecuteTime": {
     "end_time": "2018-10-11T21:06:30.626824Z",
     "start_time": "2018-10-11T21:06:30.299932Z"
    }
   },
   "outputs": [
    {
     "name": "stdout",
     "output_type": "stream",
     "text": [
      "R^2: 0.5890874894573377 RMSE: 75.17502793381944\n"
     ]
    }
   ],
   "source": [
    "degree = 3\n",
    "model_poly1 = make_pipeline(PolynomialFeatures(degree), LinearRegression())\n",
    "model_poly1.fit(X_train, y_train)\n",
    "s = model_poly1.score(X_train, y_train)\n",
    "r = np.sqrt(mean_squared_error(y_train, model_poly1.predict(X_train)))\n",
    "print('R^2:', s, 'RMSE:' , r)"
   ]
  },
  {
   "cell_type": "code",
   "execution_count": 10,
   "metadata": {
    "ExecuteTime": {
     "end_time": "2018-10-11T21:06:34.619109Z",
     "start_time": "2018-10-11T21:06:34.563567Z"
    }
   },
   "outputs": [
    {
     "name": "stdout",
     "output_type": "stream",
     "text": [
      "R^2: -0.12289971425589852 RMSE: 123.29753557960213\n"
     ]
    }
   ],
   "source": [
    "s = model_poly1.score(X_test, y_test)\n",
    "r = np.sqrt(mean_squared_error(y_test, model_poly1.predict(X_test)))\n",
    "print('R^2:', s, 'RMSE:' , r)"
   ]
  },
  {
   "cell_type": "code",
   "execution_count": 12,
   "metadata": {
    "ExecuteTime": {
     "end_time": "2018-10-11T21:09:53.717828Z",
     "start_time": "2018-10-11T21:09:53.710457Z"
    }
   },
   "outputs": [],
   "source": [
    "ssX = StandardScaler()\n",
    "X_train_scaled = ssX.fit_transform(X_train)"
   ]
  },
  {
   "cell_type": "code",
   "execution_count": 21,
   "metadata": {
    "ExecuteTime": {
     "end_time": "2018-10-11T21:16:36.456104Z",
     "start_time": "2018-10-11T21:16:33.052881Z"
    }
   },
   "outputs": [
    {
     "name": "stdout",
     "output_type": "stream",
     "text": [
      "For alpha = [100] R^2: 0.7324857879297131 RMSE: 1444.8700149510753\n"
     ]
    }
   ],
   "source": [
    "degree = 4\n",
    "alphas = [100]\n",
    "cv = 5\n",
    "\n",
    "model_poly2 = make_pipeline(PolynomialFeatures(degree), RidgeCV(alphas = alphas, cv = cv))\n",
    "model_poly2.fit(X_train_scaled, y_train)\n",
    "s = model_poly2.score(X_train_scaled, y_train) \n",
    "r = np.sqrt(mean_squared_error(y_train, model_poly1.predict(X_train_scaled)))\n",
    "print('For alpha =', alphas, 'R^2:', s, 'RMSE:' , r)"
   ]
  },
  {
   "cell_type": "code",
   "execution_count": 26,
   "metadata": {
    "ExecuteTime": {
     "end_time": "2018-10-11T21:31:15.808174Z",
     "start_time": "2018-10-11T21:31:15.800165Z"
    }
   },
   "outputs": [],
   "source": [
    "X_test_scaled = ssX.fit_transform(X_test)"
   ]
  },
  {
   "cell_type": "code",
   "execution_count": 27,
   "metadata": {
    "ExecuteTime": {
     "end_time": "2018-10-11T21:31:53.264851Z",
     "start_time": "2018-10-11T21:31:53.111655Z"
    }
   },
   "outputs": [
    {
     "name": "stdout",
     "output_type": "stream",
     "text": [
      "For alpha = [100] R^2: -5.936403324333513 RMSE: 361.1277615234676\n"
     ]
    }
   ],
   "source": [
    "s = model_poly2.score(X_test_scaled, y_test) \n",
    "r = np.sqrt(mean_squared_error(y_test, model_poly1.predict(X_test_scaled)))\n",
    "print('For alpha =', alphas, 'R^2:', s, 'RMSE:' , r)"
   ]
  },
  {
   "cell_type": "code",
   "execution_count": null,
   "metadata": {},
   "outputs": [],
   "source": [
    "X = abnb_df[['bathrooms', 'bedrooms', 'beds',\n",
    "       'security_deposit', 'cleaning_fee', 'guests_included',\n",
    "       'extra_people','number_of_reviews', 'rent_index', 'number_of_days_as_host',\n",
    "       'number_of_amenities']]\n",
    "y = abnb_df['price']"
   ]
  }
 ],
 "metadata": {
  "kernelspec": {
   "display_name": "Python 3",
   "language": "python",
   "name": "python3"
  },
  "language_info": {
   "codemirror_mode": {
    "name": "ipython",
    "version": 3
   },
   "file_extension": ".py",
   "mimetype": "text/x-python",
   "name": "python",
   "nbconvert_exporter": "python",
   "pygments_lexer": "ipython3",
   "version": "3.6.5"
  },
  "latex_envs": {
   "LaTeX_envs_menu_present": true,
   "autoclose": false,
   "autocomplete": true,
   "bibliofile": "biblio.bib",
   "cite_by": "apalike",
   "current_citInitial": 1,
   "eqLabelWithNumbers": true,
   "eqNumInitial": 1,
   "hotkeys": {
    "equation": "Ctrl-E",
    "itemize": "Ctrl-I"
   },
   "labels_anchors": false,
   "latex_user_defs": false,
   "report_style_numbering": false,
   "user_envs_cfg": false
  },
  "toc": {
   "base_numbering": 1,
   "nav_menu": {},
   "number_sections": true,
   "sideBar": true,
   "skip_h1_title": false,
   "title_cell": "Table of Contents",
   "title_sidebar": "Contents",
   "toc_cell": false,
   "toc_position": {},
   "toc_section_display": true,
   "toc_window_display": false
  }
 },
 "nbformat": 4,
 "nbformat_minor": 2
}
